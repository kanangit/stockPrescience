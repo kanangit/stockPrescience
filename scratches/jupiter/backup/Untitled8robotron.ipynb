{
 "cells": [
  {
   "cell_type": "code",
   "execution_count": 4,
   "metadata": {},
   "outputs": [],
   "source": [
    "import sys,io\n",
    "from os import listdir\n",
    "from os.path import isfile, join\n",
    "import codecs\n",
    "import re\n",
    "import json\n",
    "import string\n",
    "import csv\n",
    "from bs4 import BeautifulSoup\n",
    "import requests"
   ]
  },
  {
   "cell_type": "code",
   "execution_count": 5,
   "metadata": {},
   "outputs": [],
   "source": [
    "url = 'https://www.nytimes.com/2018/09/28/world/europe/erdogan-turkey-germany.html'\n",
    "session = requests.Session()\n",
    "req = session.get(url)"
   ]
  },
  {
   "cell_type": "code",
   "execution_count": 9,
   "metadata": {},
   "outputs": [],
   "source": [
    "fullsoup = BeautifulSoup(req.text, 'lxml')"
   ]
  },
  {
   "cell_type": "code",
   "execution_count": 16,
   "metadata": {},
   "outputs": [],
   "source": [
    "itag = fullsoup.find('section', attrs={'name':'articleBody'})"
   ]
  },
  {
   "cell_type": "code",
   "execution_count": 18,
   "metadata": {},
   "outputs": [],
   "source": [
    "paragraph_tags = itag.find_all('p')"
   ]
  },
  {
   "cell_type": "code",
   "execution_count": 19,
   "metadata": {},
   "outputs": [
    {
     "name": "stdout",
     "output_type": "stream",
     "text": [
      "[<p class=\"css-exrw3m evys1bk0\">BERLIN — A three-day state visit to Germany by President Recep Tayyip Erdogan of Turkey was supposed to be <a class=\"css-1g7m0tk\" href=\"https://www.nytimes.com/2018/09/26/world/europe/erdogan-turkey-germany-cooperation.html?module=inline\" title=\"\">aimed at repairing relations</a> at a time of a looming economic crisis at home.</p>, <p class=\"css-exrw3m evys1bk0\">But if Mr. Erdogan was on a charm offensive, Germans seemed to agree that, after just 24 hours in Berlin, it was more offensive than charm.</p>, <p class=\"css-exrw3m evys1bk0\">The first thing the Turkish president did?</p>, <p class=\"css-exrw3m evys1bk0\">Mr. Erdogan apparently flashed a four-fingered Muslim Brotherhood salute in central Berlin and demanded the extradition of 69 Turkish exiles in Germany, among them journalists and lawyers investigating Mr. Erdogan’s government and risking prison at home.</p>, <p class=\"css-exrw3m evys1bk0\">Chancellor Angela Merkel was not impressed.</p>, <p class=\"css-exrw3m evys1bk0\">Standing stiffly next to the Turkish leader at a news conference in Berlin on Friday, she noted “deep-seated differences” between the two countries regarding press freedom and the rule of law, and she insisted that Mr. Erdogan release several political prisoners held in Turkey — including five German citizens.</p>, <p class=\"css-exrw3m evys1bk0\">“I have urged that these cases be solved as quickly as possible,” Ms. Merkel said, as Mr. Erdogan stared straight ahead.</p>, <p class=\"css-exrw3m evys1bk0\">Facing the worst economic crisis in his country in 15 years, the Turkish leader had toned down his anti-Western rhetoric in recent weeks. Only a year ago, he called the German government “enemies of Turkey.” Turkish officials accused Berlin of deploying Nazi tactics, and Turkish newspapers called German companies in Turkey spies.</p>, <p class=\"css-exrw3m evys1bk0\">This week, Mr. Erdogan said, “We want to completely leave behind all the problems and to create a warm environment between Turkey and Germany — just like it used to be.”</p>, <p class=\"css-exrw3m evys1bk0\">But the facade tumbled quickly, as <a class=\"css-1g7m0tk\" href=\"https://www.nytimes.com/2018/02/16/world/europe/deniz-yucel-germany-turkey.html?module=inline\" title=\"\">it has tumbled before</a>.</p>, <p class=\"css-exrw3m evys1bk0\">Among the names on the extradition list, which was submitted to the Foreign Ministry in Berlin on Monday, according to the Turkish newspaper Yeni Akit, is Can Dundar, the former editor in chief of the Turkish newspaper Cumhuriyet.</p>, <p class=\"css-exrw3m evys1bk0\">Mr. Dundar fled Turkey in 2016 after he was convicted of treason and espionage for reporting a year earlier that Turkey’s Secret Service had delivered arms to the Islamic State. His wife remains in Turkey and is not allowed to leave the country.</p>, <p class=\"css-exrw3m evys1bk0\">When Mr. Erdogan was informed that Mr. Dundar planned to be at the news conference with Ms. Merkel, the Turkish president threatened to call off the whole thing. In the end, Mr. Dundar said he would not go to ensure that colleagues would have an opportunity to ask Mr. Erdogan critical questions.</p>, <p class=\"css-exrw3m evys1bk0\">Asked whether Ms. Merkel considered it a provocation that Mr. Dundar’s name was on the extradition list, the chancellor was blunt: “It’s no secret that there is controversy in this case.”</p>, <p class=\"css-exrw3m evys1bk0\">Mr. Erdogan, meanwhile, reiterated that Mr. Dundar was “an agent” who had published state secrets.</p>, <p class=\"css-exrw3m evys1bk0\">Though not holding back her criticism, Ms. Merkel was visibly uncomfortable with a joint appearance that showed clumsy diplomacy not just from the Turkish president but also from a Western power that ultimately has to deal with a budding dictator on Europe’s border.</p>, <p class=\"css-exrw3m evys1bk0\">At one point during the news conference, a photographer in the front row slipped on a T-shirt with a message of support for journalists jailed in Turkey. The man, a photographer for a Turkish-language news site in Germany, was swiftly removed by security personnel as Mr. Erdogan looked on and smiled.</p>, <p class=\"css-exrw3m evys1bk0\">The newspaper Süddeutsche Zeitung described the scene as one “you’d expect more in Erdogan’s Turkey.”</p>, <p class=\"css-exrw3m evys1bk0\">Ms. Merkel stressed that Germany and Turkey, both NATO members, had many shared strategic interests. She announced a meeting with the leaders of France, Turkey and Russia in October to discuss the situation in Syria, in particular the rebel stronghold of Idlib.</p>, <p class=\"css-exrw3m evys1bk0\">“We have a lot that unites us,” she said at the news conference, singling out questions of migration and the fight against terrorism. She also expressed hope that Turkey’s economic turmoil would abate.</p>, <p class=\"css-exrw3m evys1bk0\">“Germany has an interest in an economically stable Turkey,” she said.</p>, <p class=\"css-exrw3m evys1bk0\">Mr. Erdogan is secure in his newly powerful presidency. But the Turkish economy is in bad shape. The lira has come under severe pressure — losing nearly 40 percent of its value this year — buffeted by high inflation and surging foreign debt. As the lira has fallen in value, Turkish companies have struggled to make debt payments.</p>, <p class=\"css-exrw3m evys1bk0\">But if the Turkish president was looking to reassure financial markets, improve business ties and seek political support, he went about it clumsily.</p>, <p class=\"css-exrw3m evys1bk0\">A photograph of him driving through Berlin and making what appeared to be the hand sign of Muslim Brotherhood supporters — one used by Mr. Erdogan on previous occasions — was widely shared on German social media.</p>, <p class=\"css-exrw3m evys1bk0\">“It’s hard to see how to mock the values of our country more,” Julian Reichelt, the editor of Bild, <a class=\"css-1g7m0tk\" href=\"100000006133161/web/editing\" title=\"\">said on Twitter</a>.</p>, <p class=\"css-exrw3m evys1bk0\">Cem Ozdemir, a Turkish-German lawmaker and longtime Erdogan critic, put it in an interview with the newspaper Frankfurter Allgemeine Zeitung: “Erdogan has no intention of changing his spots, despite his attempts at a charm offensive.”</p>, <p class=\"css-exrw3m evys1bk0\">Mr. Erdogan’s diplomatic approach was reminiscent of <a class=\"css-1g7m0tk\" href=\"https://www.nytimes.com/2017/12/07/world/europe/erdogan-greece-turkey-visit.html?module=inline\" title=\"\">his trip to Greece</a> last winter, which went less than swimmingly — the Turkish leader suggested readjusting borders, even before he arrived in Athens.</p>, <p class=\"css-exrw3m evys1bk0\">The state visit in Germany is hosted by the German president, Frank-Walter Steinmeier, whose role is largely ceremonial. It has been met with a wave of criticism.</p>, <p class=\"css-exrw3m evys1bk0\">Thousands of protesters, including many of Turkish origin, took to the streets of Berlin near Mr. Erdogan’s hotel on Friday afternoon. One banner, held by a Kurdish woman standing near the Brandenburg Gate read, “Erdogan you’re not a leader, you’re a dictator.” Another declared, “Get lost, Erdogan!”</p>, <p class=\"css-exrw3m evys1bk0\">More protests are planned for Saturday in Cologne, where Mr. Erdogan is scheduled to open a new central mosque of one of Germany’s largest Islamic organizations. The group, the Turkish-Islamic Union for Religious Affairs, or Ditib, is financed by the Turkish government and is suspected of disseminating pro-Erdogan propaganda.</p>, <p class=\"css-exrw3m evys1bk0\">Several German lawmakers joined the protests rather than attend a state banquet on Friday night. Bijan Djir-Sarai, the foreign policy speaker of the Free Democrats, said he could not dine with Mr. Erdogan “while German citizens sit in Turkish prisons.”</p>, <p class=\"css-exrw3m evys1bk0\">The temperature rose briefly at the dinner when Mr. Steinmeier’s criticism of Turkey for pursuing government critics drew a response from Mr. Erdogan. The intellectuals and journalists wanted by the Turkish justice system, Mr. Erdogan said, are “terrorists” and Germany is “protecting them.”</p>, <p class=\"css-exrw3m evys1bk0\">Beforehand, Ms. Merkel had defended the decision to host Mr. Erdogan, saying, “We can only work through our differences if we talk to each other.”</p>, <p class=\"css-exrw3m evys1bk0\">But she, too, was conspicuously absent from the state banquet.</p>]\n"
     ]
    }
   ],
   "source": [
    "print(paragraph_tags)"
   ]
  },
  {
   "cell_type": "code",
   "execution_count": null,
   "metadata": {},
   "outputs": [],
   "source": []
  }
 ],
 "metadata": {
  "kernelspec": {
   "display_name": "Python 3",
   "language": "python",
   "name": "python3"
  },
  "language_info": {
   "codemirror_mode": {
    "name": "ipython",
    "version": 3
   },
   "file_extension": ".py",
   "mimetype": "text/x-python",
   "name": "python",
   "nbconvert_exporter": "python",
   "pygments_lexer": "ipython3",
   "version": "3.6.5"
  }
 },
 "nbformat": 4,
 "nbformat_minor": 2
}
