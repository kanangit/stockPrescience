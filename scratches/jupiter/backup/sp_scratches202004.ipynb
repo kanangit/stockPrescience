{
 "cells": [
  {
   "cell_type": "code",
   "execution_count": 1,
   "metadata": {},
   "outputs": [],
   "source": [
    "import time"
   ]
  },
  {
   "cell_type": "code",
   "execution_count": 15,
   "metadata": {},
   "outputs": [
    {
     "name": "stdout",
     "output_type": "stream",
     "text": [
      "20181104\n"
     ]
    }
   ],
   "source": [
    "today = '20181104'\n",
    "todayStruct = time.strptime(today, '%Y%m%d')\n",
    "epochseconds = time.mktime(todayStruct)\n",
    "deltaDay = 60*60*24\n",
    "nextDayEpoch = epochseconds+deltaDay\n",
    "nexDayStruct = time.localtime(nextDayEpoch)\n",
    "nextDay= time.strftime('%Y%m%d', nexDayStruct)\n",
    "print(nextDay)"
   ]
  },
  {
   "cell_type": "code",
   "execution_count": null,
   "metadata": {},
   "outputs": [],
   "source": []
  }
 ],
 "metadata": {
  "kernelspec": {
   "display_name": "Python 3",
   "language": "python",
   "name": "python3"
  },
  "language_info": {
   "codemirror_mode": {
    "name": "ipython",
    "version": 3
   },
   "file_extension": ".py",
   "mimetype": "text/x-python",
   "name": "python",
   "nbconvert_exporter": "python",
   "pygments_lexer": "ipython3",
   "version": "3.6.5"
  }
 },
 "nbformat": 4,
 "nbformat_minor": 2
}
